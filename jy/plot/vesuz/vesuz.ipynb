{
 "cells": [
  {
   "cell_type": "code",
   "execution_count": 15,
   "metadata": {},
   "outputs": [],
   "source": [
    "# generate the txt file for time sequence \n",
    "import numpy as np\n",
    "num=20\n",
    "# 20 interval in 0,1\n",
    "\n",
    "time20=np.linspace(0.0,1.0,num=20)\n",
    "distance20=np.load('distance.npy')[130:150]\n",
    "\n",
    "np.savetxt('dist.txt',distance20)\n",
    "np.savetxt('time.txt',time20)"
   ]
  },
  {
   "cell_type": "code",
   "execution_count": 33,
   "metadata": {},
   "outputs": [],
   "source": [
    "# import k b p v\n",
    "k=np.load('tmp_k_True.npy')#11167\n",
    "b=np.load('tmp_b_True.npy')\n",
    "tp=np.load('tmp_p_True.npy')\n",
    "fp=np.load(\"tmp_p_False.npy\")#14501\n",
    "tv=np.load('tmp_v_True.npy')\n",
    "fv=np.load('tmp_v_False.npy')\n",
    "value=len(k)\n",
    "time999=np.linspace(0.0,1.0,num=value)\n",
    "# k=np.reshape(num,2)"
   ]
  },
  {
   "cell_type": "code",
   "execution_count": 23,
   "metadata": {},
   "outputs": [],
   "source": [
    "# get k\n",
    "k_ss=k[:,0][:,0]\n",
    "k_ee=k[:,1][:,1]\n",
    "#get b\n",
    "b_ss=b[:,0][:,0]\n",
    "b_ee=b[:,1][:,1]\n",
    "np.savetxt(\"k_ss.txt\",k_ss)\n",
    "np.savetxt(\"k_ee.txt\",k_ee)\n",
    "np.savetxt(\"time999.txt\",time999)"
   ]
  },
  {
   "cell_type": "code",
   "execution_count": 38,
   "metadata": {},
   "outputs": [],
   "source": [
    "# get p v with two controllers on two joints so 8 txt file\n",
    "fv=fv[:value]\n",
    "fv=fv.reshape(value,2)\n",
    "tv=tv.reshape(value,2)\n",
    "fv_ss=fv[:,0]\n",
    "fv_ee=fv[:,1]\n",
    "tv_ss=tv[:,0]\n",
    "tv_ee=tv[:,1]\n",
    "np.savetxt(\"fv_ss.txt\",fv_ss)\n",
    "np.savetxt(\"fv_ee.txt\",fv_ee)\n",
    "np.savetxt(\"tv_ss.txt\",tv_ss)\n",
    "np.savetxt(\"tv_ee.txt\",tv_ee)\n"
   ]
  },
  {
   "cell_type": "code",
   "execution_count": 39,
   "metadata": {},
   "outputs": [],
   "source": [
    "# bar chart\n",
    "Cvalue = [0.161,0.038,1.038,0.229]\n",
    "Ovalue = [0.036,0.009,0.138,0.073]\n",
    "np.savetxt(\"cmp_c.txt\",Cvalue)\n",
    "np.savetxt(\"cmp_o.txt\",Ovalue)"
   ]
  }
 ],
 "metadata": {
  "kernelspec": {
   "display_name": "Python 3.8.13 ('robotarm')",
   "language": "python",
   "name": "python3"
  },
  "language_info": {
   "codemirror_mode": {
    "name": "ipython",
    "version": 3
   },
   "file_extension": ".py",
   "mimetype": "text/x-python",
   "name": "python",
   "nbconvert_exporter": "python",
   "pygments_lexer": "ipython3",
   "version": "3.8.13"
  },
  "orig_nbformat": 4,
  "vscode": {
   "interpreter": {
    "hash": "381047edec4090f843d4d5936d59728af04a22def26cf1da9a355d214ba8b488"
   }
  }
 },
 "nbformat": 4,
 "nbformat_minor": 2
}
